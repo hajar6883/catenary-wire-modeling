{
 "cells": [
  {
   "cell_type": "code",
   "execution_count": 69,
   "id": "57d45d12",
   "metadata": {},
   "outputs": [
    {
     "name": "stdout",
     "output_type": "stream",
     "text": [
      "Added to path: /Users/grace/catenary-wire-modeling/src\n"
     ]
    }
   ],
   "source": [
    "import sys\n",
    "import os \n",
    "project_root = os.path.abspath(\"..\")\n",
    "src_path = os.path.join(project_root, \"src\")\n",
    "\n",
    "sys.path.insert(0, src_path)\n",
    "print(\"Added to path:\", src_path)"
   ]
  },
  {
   "cell_type": "code",
   "execution_count": 70,
   "id": "f283ec87",
   "metadata": {},
   "outputs": [],
   "source": [
    "import numpy as np\n",
    "from core import cluster_wires\n",
    "from models import fit_catenary_wire\n",
    "from utils import pca_fit_plane\n",
    "import matplotlib.pyplot as plt\n",
    "from mpl_toolkits.mplot3d import Axes3D\n",
    "import pandas as pd\n"
   ]
  },
  {
   "cell_type": "code",
   "execution_count": 79,
   "id": "9da48d01",
   "metadata": {},
   "outputs": [],
   "source": [
    "difficulties = ['easy', 'medium', 'hard', 'extrahard']\n",
    "base_path = \"../data/lidar_cable_points_{}.parquet\"\n",
    "\n",
    "\n",
    "cable_points = {\n",
    "    level: pd.read_parquet(base_path.format(level))\n",
    "    for level in difficulties\n",
    "}"
   ]
  },
  {
   "cell_type": "code",
   "execution_count": 85,
   "id": "2f839b26",
   "metadata": {},
   "outputs": [
    {
     "data": {
      "text/plain": [
       "(1201, 3)"
      ]
     },
     "execution_count": 85,
     "metadata": {},
     "output_type": "execute_result"
    }
   ],
   "source": [
    "points3d = cable_points['extrahard'].values\n",
    "points3d.shape"
   ]
  },
  {
   "cell_type": "code",
   "execution_count": 86,
   "id": "4739c75a",
   "metadata": {},
   "outputs": [
    {
     "data": {
      "text/plain": [
       "(1201,)"
      ]
     },
     "execution_count": 86,
     "metadata": {},
     "output_type": "execute_result"
    }
   ],
   "source": [
    "\n",
    "labels = cluster_wires(points3d)\n",
    "labels.shape\n",
    "\n"
   ]
  },
  {
   "cell_type": "code",
   "execution_count": 87,
   "id": "1f996c7d",
   "metadata": {},
   "outputs": [
    {
     "name": "stdout",
     "output_type": "stream",
     "text": [
      "   [✓] Wire 0: x0=-0.00, y0=-0.51, c=200.59\n",
      "   [✓] Wire 1: x0=0.00, y0=-0.51, c=202.18\n",
      "   [✓] Wire 2: x0=0.37, y0=-0.48, c=201.02\n"
     ]
    },
    {
     "name": "stderr",
     "output_type": "stream",
     "text": [
      "/Users/grace/catenary-wire-modeling/src/models.py:25: OptimizeWarning:\n",
      "\n",
      "Covariance of the parameters could not be estimated\n",
      "\n",
      "/Users/grace/catenary-wire-modeling/src/models.py:25: OptimizeWarning:\n",
      "\n",
      "Covariance of the parameters could not be estimated\n",
      "\n"
     ]
    }
   ],
   "source": [
    "# Loop over wire clusters and fit catenary \n",
    "for wire_id in sorted(set(labels)):\n",
    "    if wire_id == -1:\n",
    "        continue  # skip noise\n",
    "\n",
    "    wire_points = points3d[labels == wire_id]\n",
    "    result = fit_catenary_wire(wire_points)\n",
    "\n",
    "    if result is None:\n",
    "        print(f\"   [!] Wire {wire_id}: Fit failed\")\n",
    "        continue\n",
    "\n",
    "    reconstructed_curve_3d, params = result\n",
    "\n",
    "    x0, y0, c = params\n",
    "    print(f\"   [✓] Wire {wire_id}: x0={x0:.2f}, y0={y0:.2f}, c={c:.2f}\")\n"
   ]
  },
  {
   "cell_type": "code",
   "execution_count": 88,
   "id": "b08b3057",
   "metadata": {},
   "outputs": [
    {
     "data": {
      "application/vnd.plotly.v1+json": {
       "config": {
        "plotlyServerURL": "https://plot.ly"
       },
       "data": [
        {
         "hovertemplate": "x=%{x}<br>y=%{y}<br>z=%{z}<extra></extra>",
         "legendgroup": "",
         "marker": {
          "color": "#636efa",
          "size": 1,
          "symbol": "circle"
         },
         "mode": "markers",
         "name": "",
         "scene": "scene",
         "showlegend": false,
         "type": "scatter3d",
         "x": {
          "bdata": "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",
          "dtype": "f8"
         },
         "y": {
          "bdata": "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",
          "dtype": "f8"
         },
         "z": {
          "bdata": "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",
          "dtype": "f8"
         }
        }
       ],
       "layout": {
        "legend": {
         "tracegroupgap": 0
        },
        "scene": {
         "domain": {
          "x": [
           0,
           1
          ],
          "y": [
           0,
           1
          ]
         },
         "xaxis": {
          "title": {
           "text": "x"
          }
         },
         "yaxis": {
          "title": {
           "text": "y"
          }
         },
         "zaxis": {
          "title": {
           "text": "z"
          }
         }
        },
        "template": {
         "data": {
          "bar": [
           {
            "error_x": {
             "color": "#2a3f5f"
            },
            "error_y": {
             "color": "#2a3f5f"
            },
            "marker": {
             "line": {
              "color": "#E5ECF6",
              "width": 0.5
             },
             "pattern": {
              "fillmode": "overlay",
              "size": 10,
              "solidity": 0.2
             }
            },
            "type": "bar"
           }
          ],
          "barpolar": [
           {
            "marker": {
             "line": {
              "color": "#E5ECF6",
              "width": 0.5
             },
             "pattern": {
              "fillmode": "overlay",
              "size": 10,
              "solidity": 0.2
             }
            },
            "type": "barpolar"
           }
          ],
          "carpet": [
           {
            "aaxis": {
             "endlinecolor": "#2a3f5f",
             "gridcolor": "white",
             "linecolor": "white",
             "minorgridcolor": "white",
             "startlinecolor": "#2a3f5f"
            },
            "baxis": {
             "endlinecolor": "#2a3f5f",
             "gridcolor": "white",
             "linecolor": "white",
             "minorgridcolor": "white",
             "startlinecolor": "#2a3f5f"
            },
            "type": "carpet"
           }
          ],
          "choropleth": [
           {
            "colorbar": {
             "outlinewidth": 0,
             "ticks": ""
            },
            "type": "choropleth"
           }
          ],
          "contour": [
           {
            "colorbar": {
             "outlinewidth": 0,
             "ticks": ""
            },
            "colorscale": [
             [
              0,
              "#0d0887"
             ],
             [
              0.1111111111111111,
              "#46039f"
             ],
             [
              0.2222222222222222,
              "#7201a8"
             ],
             [
              0.3333333333333333,
              "#9c179e"
             ],
             [
              0.4444444444444444,
              "#bd3786"
             ],
             [
              0.5555555555555556,
              "#d8576b"
             ],
             [
              0.6666666666666666,
              "#ed7953"
             ],
             [
              0.7777777777777778,
              "#fb9f3a"
             ],
             [
              0.8888888888888888,
              "#fdca26"
             ],
             [
              1,
              "#f0f921"
             ]
            ],
            "type": "contour"
           }
          ],
          "contourcarpet": [
           {
            "colorbar": {
             "outlinewidth": 0,
             "ticks": ""
            },
            "type": "contourcarpet"
           }
          ],
          "heatmap": [
           {
            "colorbar": {
             "outlinewidth": 0,
             "ticks": ""
            },
            "colorscale": [
             [
              0,
              "#0d0887"
             ],
             [
              0.1111111111111111,
              "#46039f"
             ],
             [
              0.2222222222222222,
              "#7201a8"
             ],
             [
              0.3333333333333333,
              "#9c179e"
             ],
             [
              0.4444444444444444,
              "#bd3786"
             ],
             [
              0.5555555555555556,
              "#d8576b"
             ],
             [
              0.6666666666666666,
              "#ed7953"
             ],
             [
              0.7777777777777778,
              "#fb9f3a"
             ],
             [
              0.8888888888888888,
              "#fdca26"
             ],
             [
              1,
              "#f0f921"
             ]
            ],
            "type": "heatmap"
           }
          ],
          "histogram": [
           {
            "marker": {
             "pattern": {
              "fillmode": "overlay",
              "size": 10,
              "solidity": 0.2
             }
            },
            "type": "histogram"
           }
          ],
          "histogram2d": [
           {
            "colorbar": {
             "outlinewidth": 0,
             "ticks": ""
            },
            "colorscale": [
             [
              0,
              "#0d0887"
             ],
             [
              0.1111111111111111,
              "#46039f"
             ],
             [
              0.2222222222222222,
              "#7201a8"
             ],
             [
              0.3333333333333333,
              "#9c179e"
             ],
             [
              0.4444444444444444,
              "#bd3786"
             ],
             [
              0.5555555555555556,
              "#d8576b"
             ],
             [
              0.6666666666666666,
              "#ed7953"
             ],
             [
              0.7777777777777778,
              "#fb9f3a"
             ],
             [
              0.8888888888888888,
              "#fdca26"
             ],
             [
              1,
              "#f0f921"
             ]
            ],
            "type": "histogram2d"
           }
          ],
          "histogram2dcontour": [
           {
            "colorbar": {
             "outlinewidth": 0,
             "ticks": ""
            },
            "colorscale": [
             [
              0,
              "#0d0887"
             ],
             [
              0.1111111111111111,
              "#46039f"
             ],
             [
              0.2222222222222222,
              "#7201a8"
             ],
             [
              0.3333333333333333,
              "#9c179e"
             ],
             [
              0.4444444444444444,
              "#bd3786"
             ],
             [
              0.5555555555555556,
              "#d8576b"
             ],
             [
              0.6666666666666666,
              "#ed7953"
             ],
             [
              0.7777777777777778,
              "#fb9f3a"
             ],
             [
              0.8888888888888888,
              "#fdca26"
             ],
             [
              1,
              "#f0f921"
             ]
            ],
            "type": "histogram2dcontour"
           }
          ],
          "mesh3d": [
           {
            "colorbar": {
             "outlinewidth": 0,
             "ticks": ""
            },
            "type": "mesh3d"
           }
          ],
          "parcoords": [
           {
            "line": {
             "colorbar": {
              "outlinewidth": 0,
              "ticks": ""
             }
            },
            "type": "parcoords"
           }
          ],
          "pie": [
           {
            "automargin": true,
            "type": "pie"
           }
          ],
          "scatter": [
           {
            "fillpattern": {
             "fillmode": "overlay",
             "size": 10,
             "solidity": 0.2
            },
            "type": "scatter"
           }
          ],
          "scatter3d": [
           {
            "line": {
             "colorbar": {
              "outlinewidth": 0,
              "ticks": ""
             }
            },
            "marker": {
             "colorbar": {
              "outlinewidth": 0,
              "ticks": ""
             }
            },
            "type": "scatter3d"
           }
          ],
          "scattercarpet": [
           {
            "marker": {
             "colorbar": {
              "outlinewidth": 0,
              "ticks": ""
             }
            },
            "type": "scattercarpet"
           }
          ],
          "scattergeo": [
           {
            "marker": {
             "colorbar": {
              "outlinewidth": 0,
              "ticks": ""
             }
            },
            "type": "scattergeo"
           }
          ],
          "scattergl": [
           {
            "marker": {
             "colorbar": {
              "outlinewidth": 0,
              "ticks": ""
             }
            },
            "type": "scattergl"
           }
          ],
          "scattermap": [
           {
            "marker": {
             "colorbar": {
              "outlinewidth": 0,
              "ticks": ""
             }
            },
            "type": "scattermap"
           }
          ],
          "scattermapbox": [
           {
            "marker": {
             "colorbar": {
              "outlinewidth": 0,
              "ticks": ""
             }
            },
            "type": "scattermapbox"
           }
          ],
          "scatterpolar": [
           {
            "marker": {
             "colorbar": {
              "outlinewidth": 0,
              "ticks": ""
             }
            },
            "type": "scatterpolar"
           }
          ],
          "scatterpolargl": [
           {
            "marker": {
             "colorbar": {
              "outlinewidth": 0,
              "ticks": ""
             }
            },
            "type": "scatterpolargl"
           }
          ],
          "scatterternary": [
           {
            "marker": {
             "colorbar": {
              "outlinewidth": 0,
              "ticks": ""
             }
            },
            "type": "scatterternary"
           }
          ],
          "surface": [
           {
            "colorbar": {
             "outlinewidth": 0,
             "ticks": ""
            },
            "colorscale": [
             [
              0,
              "#0d0887"
             ],
             [
              0.1111111111111111,
              "#46039f"
             ],
             [
              0.2222222222222222,
              "#7201a8"
             ],
             [
              0.3333333333333333,
              "#9c179e"
             ],
             [
              0.4444444444444444,
              "#bd3786"
             ],
             [
              0.5555555555555556,
              "#d8576b"
             ],
             [
              0.6666666666666666,
              "#ed7953"
             ],
             [
              0.7777777777777778,
              "#fb9f3a"
             ],
             [
              0.8888888888888888,
              "#fdca26"
             ],
             [
              1,
              "#f0f921"
             ]
            ],
            "type": "surface"
           }
          ],
          "table": [
           {
            "cells": {
             "fill": {
              "color": "#EBF0F8"
             },
             "line": {
              "color": "white"
             }
            },
            "header": {
             "fill": {
              "color": "#C8D4E3"
             },
             "line": {
              "color": "white"
             }
            },
            "type": "table"
           }
          ]
         },
         "layout": {
          "annotationdefaults": {
           "arrowcolor": "#2a3f5f",
           "arrowhead": 0,
           "arrowwidth": 1
          },
          "autotypenumbers": "strict",
          "coloraxis": {
           "colorbar": {
            "outlinewidth": 0,
            "ticks": ""
           }
          },
          "colorscale": {
           "diverging": [
            [
             0,
             "#8e0152"
            ],
            [
             0.1,
             "#c51b7d"
            ],
            [
             0.2,
             "#de77ae"
            ],
            [
             0.3,
             "#f1b6da"
            ],
            [
             0.4,
             "#fde0ef"
            ],
            [
             0.5,
             "#f7f7f7"
            ],
            [
             0.6,
             "#e6f5d0"
            ],
            [
             0.7,
             "#b8e186"
            ],
            [
             0.8,
             "#7fbc41"
            ],
            [
             0.9,
             "#4d9221"
            ],
            [
             1,
             "#276419"
            ]
           ],
           "sequential": [
            [
             0,
             "#0d0887"
            ],
            [
             0.1111111111111111,
             "#46039f"
            ],
            [
             0.2222222222222222,
             "#7201a8"
            ],
            [
             0.3333333333333333,
             "#9c179e"
            ],
            [
             0.4444444444444444,
             "#bd3786"
            ],
            [
             0.5555555555555556,
             "#d8576b"
            ],
            [
             0.6666666666666666,
             "#ed7953"
            ],
            [
             0.7777777777777778,
             "#fb9f3a"
            ],
            [
             0.8888888888888888,
             "#fdca26"
            ],
            [
             1,
             "#f0f921"
            ]
           ],
           "sequentialminus": [
            [
             0,
             "#0d0887"
            ],
            [
             0.1111111111111111,
             "#46039f"
            ],
            [
             0.2222222222222222,
             "#7201a8"
            ],
            [
             0.3333333333333333,
             "#9c179e"
            ],
            [
             0.4444444444444444,
             "#bd3786"
            ],
            [
             0.5555555555555556,
             "#d8576b"
            ],
            [
             0.6666666666666666,
             "#ed7953"
            ],
            [
             0.7777777777777778,
             "#fb9f3a"
            ],
            [
             0.8888888888888888,
             "#fdca26"
            ],
            [
             1,
             "#f0f921"
            ]
           ]
          },
          "colorway": [
           "#636efa",
           "#EF553B",
           "#00cc96",
           "#ab63fa",
           "#FFA15A",
           "#19d3f3",
           "#FF6692",
           "#B6E880",
           "#FF97FF",
           "#FECB52"
          ],
          "font": {
           "color": "#2a3f5f"
          },
          "geo": {
           "bgcolor": "white",
           "lakecolor": "white",
           "landcolor": "#E5ECF6",
           "showlakes": true,
           "showland": true,
           "subunitcolor": "white"
          },
          "hoverlabel": {
           "align": "left"
          },
          "hovermode": "closest",
          "mapbox": {
           "style": "light"
          },
          "paper_bgcolor": "white",
          "plot_bgcolor": "#E5ECF6",
          "polar": {
           "angularaxis": {
            "gridcolor": "white",
            "linecolor": "white",
            "ticks": ""
           },
           "bgcolor": "#E5ECF6",
           "radialaxis": {
            "gridcolor": "white",
            "linecolor": "white",
            "ticks": ""
           }
          },
          "scene": {
           "xaxis": {
            "backgroundcolor": "#E5ECF6",
            "gridcolor": "white",
            "gridwidth": 2,
            "linecolor": "white",
            "showbackground": true,
            "ticks": "",
            "zerolinecolor": "white"
           },
           "yaxis": {
            "backgroundcolor": "#E5ECF6",
            "gridcolor": "white",
            "gridwidth": 2,
            "linecolor": "white",
            "showbackground": true,
            "ticks": "",
            "zerolinecolor": "white"
           },
           "zaxis": {
            "backgroundcolor": "#E5ECF6",
            "gridcolor": "white",
            "gridwidth": 2,
            "linecolor": "white",
            "showbackground": true,
            "ticks": "",
            "zerolinecolor": "white"
           }
          },
          "shapedefaults": {
           "line": {
            "color": "#2a3f5f"
           }
          },
          "ternary": {
           "aaxis": {
            "gridcolor": "white",
            "linecolor": "white",
            "ticks": ""
           },
           "baxis": {
            "gridcolor": "white",
            "linecolor": "white",
            "ticks": ""
           },
           "bgcolor": "#E5ECF6",
           "caxis": {
            "gridcolor": "white",
            "linecolor": "white",
            "ticks": ""
           }
          },
          "title": {
           "x": 0.05
          },
          "xaxis": {
           "automargin": true,
           "gridcolor": "white",
           "linecolor": "white",
           "ticks": "",
           "title": {
            "standoff": 15
           },
           "zerolinecolor": "white",
           "zerolinewidth": 2
          },
          "yaxis": {
           "automargin": true,
           "gridcolor": "white",
           "linecolor": "white",
           "ticks": "",
           "title": {
            "standoff": 15
           },
           "zerolinecolor": "white",
           "zerolinewidth": 2
          }
         }
        },
        "title": {
         "text": "Original 3D Wire Cluster"
        }
       }
      }
     },
     "metadata": {},
     "output_type": "display_data"
    }
   ],
   "source": [
    "# check on the last wire cluster processed\n",
    "import plotly.express as px\n",
    "import pandas as pd\n",
    "\n",
    "df = pd.DataFrame(wire_points, columns=[\"x\", \"y\", \"z\"])\n",
    "\n",
    "fig = px.scatter_3d(df, x=\"x\", y=\"y\", z=\"z\", title=\"Original 3D Wire Cluster\")\n",
    "fig.update_traces(marker=dict(size=1))  \n",
    "fig.show()"
   ]
  },
  {
   "cell_type": "code",
   "execution_count": 89,
   "id": "728061d7",
   "metadata": {},
   "outputs": [
    {
     "data": {
      "application/vnd.plotly.v1+json": {
       "config": {
        "plotlyServerURL": "https://plot.ly"
       },
       "data": [
        {
         "hovertemplate": "PC1=%{x}<br>PC2=%{y}<extra></extra>",
         "legendgroup": "",
         "marker": {
          "color": "#636efa",
          "symbol": "circle"
         },
         "mode": "markers",
         "name": "",
         "orientation": "v",
         "showlegend": false,
         "type": "scatter",
         "x": {
          "bdata": "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",
          "dtype": "f8"
         },
         "xaxis": "x",
         "y": {
          "bdata": "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",
          "dtype": "f8"
         },
         "yaxis": "y"
        }
       ],
       "layout": {
        "legend": {
         "tracegroupgap": 0
        },
        "template": {
         "data": {
          "bar": [
           {
            "error_x": {
             "color": "#2a3f5f"
            },
            "error_y": {
             "color": "#2a3f5f"
            },
            "marker": {
             "line": {
              "color": "#E5ECF6",
              "width": 0.5
             },
             "pattern": {
              "fillmode": "overlay",
              "size": 10,
              "solidity": 0.2
             }
            },
            "type": "bar"
           }
          ],
          "barpolar": [
           {
            "marker": {
             "line": {
              "color": "#E5ECF6",
              "width": 0.5
             },
             "pattern": {
              "fillmode": "overlay",
              "size": 10,
              "solidity": 0.2
             }
            },
            "type": "barpolar"
           }
          ],
          "carpet": [
           {
            "aaxis": {
             "endlinecolor": "#2a3f5f",
             "gridcolor": "white",
             "linecolor": "white",
             "minorgridcolor": "white",
             "startlinecolor": "#2a3f5f"
            },
            "baxis": {
             "endlinecolor": "#2a3f5f",
             "gridcolor": "white",
             "linecolor": "white",
             "minorgridcolor": "white",
             "startlinecolor": "#2a3f5f"
            },
            "type": "carpet"
           }
          ],
          "choropleth": [
           {
            "colorbar": {
             "outlinewidth": 0,
             "ticks": ""
            },
            "type": "choropleth"
           }
          ],
          "contour": [
           {
            "colorbar": {
             "outlinewidth": 0,
             "ticks": ""
            },
            "colorscale": [
             [
              0,
              "#0d0887"
             ],
             [
              0.1111111111111111,
              "#46039f"
             ],
             [
              0.2222222222222222,
              "#7201a8"
             ],
             [
              0.3333333333333333,
              "#9c179e"
             ],
             [
              0.4444444444444444,
              "#bd3786"
             ],
             [
              0.5555555555555556,
              "#d8576b"
             ],
             [
              0.6666666666666666,
              "#ed7953"
             ],
             [
              0.7777777777777778,
              "#fb9f3a"
             ],
             [
              0.8888888888888888,
              "#fdca26"
             ],
             [
              1,
              "#f0f921"
             ]
            ],
            "type": "contour"
           }
          ],
          "contourcarpet": [
           {
            "colorbar": {
             "outlinewidth": 0,
             "ticks": ""
            },
            "type": "contourcarpet"
           }
          ],
          "heatmap": [
           {
            "colorbar": {
             "outlinewidth": 0,
             "ticks": ""
            },
            "colorscale": [
             [
              0,
              "#0d0887"
             ],
             [
              0.1111111111111111,
              "#46039f"
             ],
             [
              0.2222222222222222,
              "#7201a8"
             ],
             [
              0.3333333333333333,
              "#9c179e"
             ],
             [
              0.4444444444444444,
              "#bd3786"
             ],
             [
              0.5555555555555556,
              "#d8576b"
             ],
             [
              0.6666666666666666,
              "#ed7953"
             ],
             [
              0.7777777777777778,
              "#fb9f3a"
             ],
             [
              0.8888888888888888,
              "#fdca26"
             ],
             [
              1,
              "#f0f921"
             ]
            ],
            "type": "heatmap"
           }
          ],
          "histogram": [
           {
            "marker": {
             "pattern": {
              "fillmode": "overlay",
              "size": 10,
              "solidity": 0.2
             }
            },
            "type": "histogram"
           }
          ],
          "histogram2d": [
           {
            "colorbar": {
             "outlinewidth": 0,
             "ticks": ""
            },
            "colorscale": [
             [
              0,
              "#0d0887"
             ],
             [
              0.1111111111111111,
              "#46039f"
             ],
             [
              0.2222222222222222,
              "#7201a8"
             ],
             [
              0.3333333333333333,
              "#9c179e"
             ],
             [
              0.4444444444444444,
              "#bd3786"
             ],
             [
              0.5555555555555556,
              "#d8576b"
             ],
             [
              0.6666666666666666,
              "#ed7953"
             ],
             [
              0.7777777777777778,
              "#fb9f3a"
             ],
             [
              0.8888888888888888,
              "#fdca26"
             ],
             [
              1,
              "#f0f921"
             ]
            ],
            "type": "histogram2d"
           }
          ],
          "histogram2dcontour": [
           {
            "colorbar": {
             "outlinewidth": 0,
             "ticks": ""
            },
            "colorscale": [
             [
              0,
              "#0d0887"
             ],
             [
              0.1111111111111111,
              "#46039f"
             ],
             [
              0.2222222222222222,
              "#7201a8"
             ],
             [
              0.3333333333333333,
              "#9c179e"
             ],
             [
              0.4444444444444444,
              "#bd3786"
             ],
             [
              0.5555555555555556,
              "#d8576b"
             ],
             [
              0.6666666666666666,
              "#ed7953"
             ],
             [
              0.7777777777777778,
              "#fb9f3a"
             ],
             [
              0.8888888888888888,
              "#fdca26"
             ],
             [
              1,
              "#f0f921"
             ]
            ],
            "type": "histogram2dcontour"
           }
          ],
          "mesh3d": [
           {
            "colorbar": {
             "outlinewidth": 0,
             "ticks": ""
            },
            "type": "mesh3d"
           }
          ],
          "parcoords": [
           {
            "line": {
             "colorbar": {
              "outlinewidth": 0,
              "ticks": ""
             }
            },
            "type": "parcoords"
           }
          ],
          "pie": [
           {
            "automargin": true,
            "type": "pie"
           }
          ],
          "scatter": [
           {
            "fillpattern": {
             "fillmode": "overlay",
             "size": 10,
             "solidity": 0.2
            },
            "type": "scatter"
           }
          ],
          "scatter3d": [
           {
            "line": {
             "colorbar": {
              "outlinewidth": 0,
              "ticks": ""
             }
            },
            "marker": {
             "colorbar": {
              "outlinewidth": 0,
              "ticks": ""
             }
            },
            "type": "scatter3d"
           }
          ],
          "scattercarpet": [
           {
            "marker": {
             "colorbar": {
              "outlinewidth": 0,
              "ticks": ""
             }
            },
            "type": "scattercarpet"
           }
          ],
          "scattergeo": [
           {
            "marker": {
             "colorbar": {
              "outlinewidth": 0,
              "ticks": ""
             }
            },
            "type": "scattergeo"
           }
          ],
          "scattergl": [
           {
            "marker": {
             "colorbar": {
              "outlinewidth": 0,
              "ticks": ""
             }
            },
            "type": "scattergl"
           }
          ],
          "scattermap": [
           {
            "marker": {
             "colorbar": {
              "outlinewidth": 0,
              "ticks": ""
             }
            },
            "type": "scattermap"
           }
          ],
          "scattermapbox": [
           {
            "marker": {
             "colorbar": {
              "outlinewidth": 0,
              "ticks": ""
             }
            },
            "type": "scattermapbox"
           }
          ],
          "scatterpolar": [
           {
            "marker": {
             "colorbar": {
              "outlinewidth": 0,
              "ticks": ""
             }
            },
            "type": "scatterpolar"
           }
          ],
          "scatterpolargl": [
           {
            "marker": {
             "colorbar": {
              "outlinewidth": 0,
              "ticks": ""
             }
            },
            "type": "scatterpolargl"
           }
          ],
          "scatterternary": [
           {
            "marker": {
             "colorbar": {
              "outlinewidth": 0,
              "ticks": ""
             }
            },
            "type": "scatterternary"
           }
          ],
          "surface": [
           {
            "colorbar": {
             "outlinewidth": 0,
             "ticks": ""
            },
            "colorscale": [
             [
              0,
              "#0d0887"
             ],
             [
              0.1111111111111111,
              "#46039f"
             ],
             [
              0.2222222222222222,
              "#7201a8"
             ],
             [
              0.3333333333333333,
              "#9c179e"
             ],
             [
              0.4444444444444444,
              "#bd3786"
             ],
             [
              0.5555555555555556,
              "#d8576b"
             ],
             [
              0.6666666666666666,
              "#ed7953"
             ],
             [
              0.7777777777777778,
              "#fb9f3a"
             ],
             [
              0.8888888888888888,
              "#fdca26"
             ],
             [
              1,
              "#f0f921"
             ]
            ],
            "type": "surface"
           }
          ],
          "table": [
           {
            "cells": {
             "fill": {
              "color": "#EBF0F8"
             },
             "line": {
              "color": "white"
             }
            },
            "header": {
             "fill": {
              "color": "#C8D4E3"
             },
             "line": {
              "color": "white"
             }
            },
            "type": "table"
           }
          ]
         },
         "layout": {
          "annotationdefaults": {
           "arrowcolor": "#2a3f5f",
           "arrowhead": 0,
           "arrowwidth": 1
          },
          "autotypenumbers": "strict",
          "coloraxis": {
           "colorbar": {
            "outlinewidth": 0,
            "ticks": ""
           }
          },
          "colorscale": {
           "diverging": [
            [
             0,
             "#8e0152"
            ],
            [
             0.1,
             "#c51b7d"
            ],
            [
             0.2,
             "#de77ae"
            ],
            [
             0.3,
             "#f1b6da"
            ],
            [
             0.4,
             "#fde0ef"
            ],
            [
             0.5,
             "#f7f7f7"
            ],
            [
             0.6,
             "#e6f5d0"
            ],
            [
             0.7,
             "#b8e186"
            ],
            [
             0.8,
             "#7fbc41"
            ],
            [
             0.9,
             "#4d9221"
            ],
            [
             1,
             "#276419"
            ]
           ],
           "sequential": [
            [
             0,
             "#0d0887"
            ],
            [
             0.1111111111111111,
             "#46039f"
            ],
            [
             0.2222222222222222,
             "#7201a8"
            ],
            [
             0.3333333333333333,
             "#9c179e"
            ],
            [
             0.4444444444444444,
             "#bd3786"
            ],
            [
             0.5555555555555556,
             "#d8576b"
            ],
            [
             0.6666666666666666,
             "#ed7953"
            ],
            [
             0.7777777777777778,
             "#fb9f3a"
            ],
            [
             0.8888888888888888,
             "#fdca26"
            ],
            [
             1,
             "#f0f921"
            ]
           ],
           "sequentialminus": [
            [
             0,
             "#0d0887"
            ],
            [
             0.1111111111111111,
             "#46039f"
            ],
            [
             0.2222222222222222,
             "#7201a8"
            ],
            [
             0.3333333333333333,
             "#9c179e"
            ],
            [
             0.4444444444444444,
             "#bd3786"
            ],
            [
             0.5555555555555556,
             "#d8576b"
            ],
            [
             0.6666666666666666,
             "#ed7953"
            ],
            [
             0.7777777777777778,
             "#fb9f3a"
            ],
            [
             0.8888888888888888,
             "#fdca26"
            ],
            [
             1,
             "#f0f921"
            ]
           ]
          },
          "colorway": [
           "#636efa",
           "#EF553B",
           "#00cc96",
           "#ab63fa",
           "#FFA15A",
           "#19d3f3",
           "#FF6692",
           "#B6E880",
           "#FF97FF",
           "#FECB52"
          ],
          "font": {
           "color": "#2a3f5f"
          },
          "geo": {
           "bgcolor": "white",
           "lakecolor": "white",
           "landcolor": "#E5ECF6",
           "showlakes": true,
           "showland": true,
           "subunitcolor": "white"
          },
          "hoverlabel": {
           "align": "left"
          },
          "hovermode": "closest",
          "mapbox": {
           "style": "light"
          },
          "paper_bgcolor": "white",
          "plot_bgcolor": "#E5ECF6",
          "polar": {
           "angularaxis": {
            "gridcolor": "white",
            "linecolor": "white",
            "ticks": ""
           },
           "bgcolor": "#E5ECF6",
           "radialaxis": {
            "gridcolor": "white",
            "linecolor": "white",
            "ticks": ""
           }
          },
          "scene": {
           "xaxis": {
            "backgroundcolor": "#E5ECF6",
            "gridcolor": "white",
            "gridwidth": 2,
            "linecolor": "white",
            "showbackground": true,
            "ticks": "",
            "zerolinecolor": "white"
           },
           "yaxis": {
            "backgroundcolor": "#E5ECF6",
            "gridcolor": "white",
            "gridwidth": 2,
            "linecolor": "white",
            "showbackground": true,
            "ticks": "",
            "zerolinecolor": "white"
           },
           "zaxis": {
            "backgroundcolor": "#E5ECF6",
            "gridcolor": "white",
            "gridwidth": 2,
            "linecolor": "white",
            "showbackground": true,
            "ticks": "",
            "zerolinecolor": "white"
           }
          },
          "shapedefaults": {
           "line": {
            "color": "#2a3f5f"
           }
          },
          "ternary": {
           "aaxis": {
            "gridcolor": "white",
            "linecolor": "white",
            "ticks": ""
           },
           "baxis": {
            "gridcolor": "white",
            "linecolor": "white",
            "ticks": ""
           },
           "bgcolor": "#E5ECF6",
           "caxis": {
            "gridcolor": "white",
            "linecolor": "white",
            "ticks": ""
           }
          },
          "title": {
           "x": 0.05
          },
          "xaxis": {
           "automargin": true,
           "gridcolor": "white",
           "linecolor": "white",
           "ticks": "",
           "title": {
            "standoff": 15
           },
           "zerolinecolor": "white",
           "zerolinewidth": 2
          },
          "yaxis": {
           "automargin": true,
           "gridcolor": "white",
           "linecolor": "white",
           "ticks": "",
           "title": {
            "standoff": 15
           },
           "zerolinecolor": "white",
           "zerolinewidth": 2
          }
         }
        },
        "title": {
         "text": "PCA Projection by Cluster"
        },
        "xaxis": {
         "anchor": "y",
         "domain": [
          0,
          1
         ],
         "title": {
          "text": "PC1"
         }
        },
        "yaxis": {
         "anchor": "x",
         "domain": [
          0,
          1
         ],
         "title": {
          "text": "PC2"
         }
        }
       }
      }
     },
     "metadata": {},
     "output_type": "display_data"
    }
   ],
   "source": [
    "pts_2d, pca =pca_fit_plane(wire_points)\n",
    "pts_2d.shape\n",
    "\n",
    "df = pd.DataFrame(pts_2d, columns=[\"PC1\", \"PC2\"])\n",
    "\n",
    "\n",
    "# 2D scatter plot with color per cluster\n",
    "fig = px.scatter(df, x=\"PC1\", y=\"PC2\", title=\"PCA Projection by Cluster\")\n",
    "fig.show()"
   ]
  },
  {
   "cell_type": "code",
   "execution_count": null,
   "id": "25b90f8b",
   "metadata": {},
   "outputs": [],
   "source": []
  }
 ],
 "metadata": {
  "kernelspec": {
   "display_name": "backup_env",
   "language": "python",
   "name": "python3"
  },
  "language_info": {
   "codemirror_mode": {
    "name": "ipython",
    "version": 3
   },
   "file_extension": ".py",
   "mimetype": "text/x-python",
   "name": "python",
   "nbconvert_exporter": "python",
   "pygments_lexer": "ipython3",
   "version": "3.12.11"
  }
 },
 "nbformat": 4,
 "nbformat_minor": 5
}
